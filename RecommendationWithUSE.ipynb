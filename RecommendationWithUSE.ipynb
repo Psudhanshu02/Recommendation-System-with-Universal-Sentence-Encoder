{
 "cells": [
  {
   "cell_type": "code",
   "execution_count": 1,
   "id": "45e5f193-0876-4cd1-8902-b5c4705bb2c7",
   "metadata": {},
   "outputs": [],
   "source": [
    "# Import TensorFlow and hub\n",
    "import tensorflow as tf\n",
    "import tensorflow_hub as hub\n",
    "\n",
    "# Plotting\n",
    "import matplotlib.pyplot as plt\n",
    "\n",
    "# some important packages\n",
    "import os\n",
    "import re\n",
    "import numpy as np\n",
    "import pandas as pd\n",
    "\n",
    "# scikit-learn\n",
    "from sklearn.metrics.pairwise import cosine_similarity\n",
    "from sklearn.neighbors import NearestNeighbors\n",
    "from sklearn.decomposition import PCA"
   ]
  },
  {
   "cell_type": "code",
   "execution_count": 3,
   "id": "35e09cc1-937d-46ad-9b9f-666751c5be4a",
   "metadata": {},
   "outputs": [
    {
     "name": "stdout",
     "output_type": "stream",
     "text": [
      "Model Loaded\n"
     ]
    }
   ],
   "source": [
    "model_url = \"https://tfhub.dev/google/universal-sentence-encoder/4\"\n",
    "model = hub.load(model_url)\n",
    "print('Model Loaded')"
   ]
  },
  {
   "cell_type": "code",
   "execution_count": 4,
   "id": "af8c9919-fb9d-404f-ae96-70d5aa7ddff6",
   "metadata": {},
   "outputs": [
    {
     "data": {
      "text/plain": [
       "<tf.Tensor: shape=(1, 512), dtype=float32, numpy=\n",
       "array([[ 0.00549277,  0.02886907, -0.02628893,  0.04502155, -0.01233333,\n",
       "         0.02568332, -0.00071878, -0.05447304,  0.04221926, -0.01913711,\n",
       "         0.02710012, -0.04328046, -0.02486857,  0.01359516,  0.00482792,\n",
       "        -0.05379636,  0.01630706,  0.0213991 ,  0.02644025, -0.02320253,\n",
       "         0.0656922 , -0.10137625, -0.01691996,  0.02492485,  0.02406812,\n",
       "        -0.03139618, -0.03265484, -0.05174927, -0.07271488,  0.10145195,\n",
       "         0.03868444,  0.0438069 , -0.02071749, -0.01873295, -0.03071436,\n",
       "         0.01825575,  0.03627161,  0.01321464,  0.0094349 , -0.03006625,\n",
       "         0.06655686,  0.01529935, -0.10101432, -0.00671939, -0.01578641,\n",
       "         0.04991   ,  0.02548567,  0.05454975, -0.01658572,  0.05624886,\n",
       "         0.03834501, -0.08679942, -0.06096424, -0.01161774,  0.01997451,\n",
       "         0.04206815, -0.04119828, -0.0076859 , -0.05101159,  0.01210042,\n",
       "        -0.01673211, -0.01382077,  0.00373702,  0.04911598, -0.03481681,\n",
       "         0.05704319,  0.01964702,  0.01331999,  0.06399829, -0.06007639,\n",
       "         0.04977039,  0.05969533, -0.00512161,  0.00345538,  0.0234739 ,\n",
       "         0.0165788 ,  0.00882615, -0.05840247,  0.01081952,  0.09112441,\n",
       "        -0.04244035,  0.0237871 , -0.00078291,  0.02853674,  0.00093316,\n",
       "         0.04208674,  0.0367113 , -0.0435502 , -0.09307761, -0.00054822,\n",
       "        -0.01398352, -0.02585262,  0.00277775,  0.03043686,  0.10135812,\n",
       "         0.00514982,  0.00857199, -0.05206994,  0.09978891,  0.0905215 ,\n",
       "         0.00727674, -0.00806306,  0.01509867, -0.0002492 ,  0.00344271,\n",
       "        -0.01363513, -0.02850654, -0.02132624,  0.00644556,  0.00035647,\n",
       "         0.04428072,  0.04263918,  0.06019286, -0.01540298, -0.05650954,\n",
       "         0.06915257, -0.02070851, -0.05304858,  0.02065349,  0.02122757,\n",
       "        -0.01767537, -0.00901934, -0.02521257, -0.02947347, -0.00788982,\n",
       "        -0.08103786,  0.00427627, -0.10145585,  0.06386337,  0.09853413,\n",
       "        -0.00386895, -0.02636251,  0.03109702, -0.06319854,  0.0232346 ,\n",
       "        -0.08689979, -0.02764196, -0.03676214, -0.09642364, -0.00811526,\n",
       "         0.02796137, -0.04216219,  0.02821671,  0.07147539,  0.02029407,\n",
       "         0.05213046,  0.00547965,  0.01005903, -0.00968195,  0.00038219,\n",
       "         0.0250867 ,  0.00367784, -0.08550171, -0.03470816,  0.03182829,\n",
       "         0.07189632,  0.07062655, -0.04086526,  0.06687138, -0.01880954,\n",
       "        -0.05949424,  0.02761281,  0.07921505,  0.07259227, -0.03060984,\n",
       "         0.02377023, -0.07497516, -0.03893209,  0.03242344,  0.00316036,\n",
       "         0.01624396,  0.06015553, -0.02738686, -0.03726018, -0.02249828,\n",
       "         0.05164828, -0.04710845,  0.04515138,  0.01647221, -0.07968113,\n",
       "        -0.02482688,  0.07581182, -0.04040248, -0.02527554,  0.03866645,\n",
       "         0.02881844,  0.03863066,  0.03125424,  0.0979564 ,  0.05011383,\n",
       "        -0.04737546, -0.00737251,  0.01652108, -0.06835039,  0.01118035,\n",
       "        -0.04373858,  0.01260422, -0.00242772, -0.00058691, -0.02478768,\n",
       "         0.02563103, -0.05302643, -0.01710284,  0.00217772,  0.06206433,\n",
       "         0.00491738,  0.06120979,  0.0165525 , -0.03342636, -0.00202418,\n",
       "        -0.07622243,  0.00806765, -0.08526599, -0.02341255,  0.08972814,\n",
       "        -0.02402736, -0.01625873, -0.04681421,  0.02810654, -0.03114542,\n",
       "         0.01489858, -0.05796925, -0.04334744,  0.04788565, -0.09521475,\n",
       "         0.0561429 , -0.09003564, -0.00125589,  0.04825946, -0.01603318,\n",
       "         0.00241588, -0.00702673,  0.02820108,  0.09956265, -0.00557053,\n",
       "        -0.003923  ,  0.07811753,  0.04828187,  0.0121674 ,  0.02649802,\n",
       "         0.02752784,  0.02974233,  0.073373  ,  0.00549879,  0.0217541 ,\n",
       "         0.03527229, -0.02245831, -0.03951044, -0.01718157, -0.00958715,\n",
       "         0.01648906,  0.0275668 , -0.04291252,  0.01616792,  0.04632328,\n",
       "         0.0365464 ,  0.00651556, -0.03667975,  0.05807519, -0.01841663,\n",
       "        -0.00266966,  0.00346312, -0.02939765, -0.01507319,  0.01409323,\n",
       "        -0.00591191,  0.03839973,  0.04513567,  0.01936357,  0.02554665,\n",
       "         0.07666098,  0.10104095,  0.00929441,  0.00482539,  0.02027608,\n",
       "         0.00240536,  0.02083166, -0.03676211,  0.10099945,  0.03398843,\n",
       "         0.05451922,  0.01629779,  0.00153097,  0.04745298, -0.02842082,\n",
       "        -0.1014563 , -0.03567199,  0.04948913,  0.05039082, -0.03494554,\n",
       "        -0.00588503,  0.09687836, -0.05840484,  0.01675772,  0.02724424,\n",
       "         0.02663235,  0.03828524,  0.03009385,  0.01220315,  0.06866227,\n",
       "         0.02131043, -0.02601966, -0.02164594, -0.05966078,  0.02477536,\n",
       "        -0.03523961,  0.03393568,  0.0016826 , -0.00818854,  0.06598673,\n",
       "        -0.01477991, -0.00547294,  0.02505231,  0.0064873 ,  0.02565609,\n",
       "         0.02956758, -0.0308094 , -0.03890036, -0.03340892,  0.00147071,\n",
       "        -0.01925288,  0.0362521 ,  0.06860747, -0.04845803,  0.0110069 ,\n",
       "        -0.00560863,  0.02295657, -0.00988501, -0.0304068 ,  0.01045825,\n",
       "         0.00439852,  0.00435433, -0.01468392, -0.02332358, -0.0939328 ,\n",
       "        -0.04051303, -0.02504382, -0.02483054, -0.00718712,  0.02460038,\n",
       "         0.0977279 ,  0.04025533, -0.03151967,  0.00815453,  0.02152842,\n",
       "         0.02150854, -0.05112504, -0.10104635, -0.04361084, -0.03795948,\n",
       "        -0.01316943, -0.00344931, -0.04037197,  0.01797776, -0.01757187,\n",
       "        -0.04222956, -0.09757969, -0.00327324,  0.03685586,  0.05532565,\n",
       "        -0.014063  , -0.04614404,  0.09916461,  0.03399033,  0.03972924,\n",
       "         0.01713765, -0.09407922,  0.04282651, -0.01115871,  0.020565  ,\n",
       "        -0.02484544,  0.02506447,  0.00555097, -0.00292716,  0.03787243,\n",
       "        -0.03494245,  0.06777942,  0.02706825,  0.03850488, -0.05578916,\n",
       "        -0.0330214 ,  0.0030109 ,  0.02818895,  0.07666627, -0.08516957,\n",
       "        -0.03537198, -0.06837833, -0.00548796, -0.01908866, -0.00284598,\n",
       "         0.0824784 , -0.01801237, -0.00120912,  0.02134808,  0.02816012,\n",
       "        -0.02182807, -0.07698049,  0.041915  , -0.01772331, -0.10040031,\n",
       "         0.00692175, -0.02796317, -0.04455818, -0.06157222,  0.10145624,\n",
       "        -0.00963377,  0.10096459,  0.00471772,  0.06617887,  0.03885556,\n",
       "        -0.00787657,  0.02685579, -0.03091918, -0.0105633 ,  0.10033691,\n",
       "        -0.03595691, -0.01495695,  0.05245736, -0.03973067,  0.04209255,\n",
       "         0.01853598,  0.0231187 , -0.05690553, -0.0329365 ,  0.02865035,\n",
       "         0.06984377, -0.0277194 ,  0.05746055, -0.018026  ,  0.10100625,\n",
       "         0.00823105, -0.00218663, -0.0197746 , -0.02139798, -0.02073987,\n",
       "        -0.07589928, -0.02751529,  0.01627714, -0.01539143, -0.0626294 ,\n",
       "         0.01311476, -0.0993381 , -0.04334497, -0.08061337,  0.00917239,\n",
       "        -0.02972651, -0.0258902 , -0.06180016, -0.03558385,  0.01895514,\n",
       "        -0.01997391, -0.00617032,  0.07606239,  0.04640512,  0.02881571,\n",
       "        -0.04640506, -0.01369573, -0.06184131,  0.04200374,  0.00202796,\n",
       "        -0.0203032 ,  0.04844751,  0.01807221,  0.0784478 , -0.03313062,\n",
       "         0.05824583,  0.0044784 , -0.01961142, -0.00045636,  0.03107096,\n",
       "        -0.00321143,  0.01680857,  0.0613891 ,  0.00517968, -0.02396525,\n",
       "         0.02933806, -0.05025385, -0.04185723,  0.09955991,  0.06448299,\n",
       "         0.03606918, -0.03115355,  0.01786361,  0.01037991,  0.06728492,\n",
       "        -0.06519369,  0.0049594 ,  0.10143956, -0.01632897, -0.04359464,\n",
       "        -0.0272157 , -0.01624424,  0.03745248, -0.02960905,  0.04793223,\n",
       "        -0.01649586, -0.00442805,  0.00562304, -0.01870938, -0.05266127,\n",
       "        -0.02731568, -0.10080237,  0.02205933,  0.02533061, -0.0471325 ,\n",
       "         0.01325952, -0.01660335,  0.00863714,  0.06462496, -0.05216799,\n",
       "         0.10145401, -0.00225029]], dtype=float32)>"
      ]
     },
     "execution_count": 4,
     "metadata": {},
     "output_type": "execute_result"
    }
   ],
   "source": [
    "model(['This movie was great!'])"
   ]
  },
  {
   "cell_type": "code",
   "execution_count": 5,
   "id": "c9fe6390-5235-4eee-a3e2-42e8387c01f1",
   "metadata": {},
   "outputs": [],
   "source": [
    "def embed(texts):\n",
    "    return model(texts)"
   ]
  },
  {
   "cell_type": "code",
   "execution_count": 6,
   "id": "57466371-6a20-4f2c-a980-4fa919d03cca",
   "metadata": {},
   "outputs": [
    {
     "data": {
      "text/html": [
       "<div>\n",
       "<style scoped>\n",
       "    .dataframe tbody tr th:only-of-type {\n",
       "        vertical-align: middle;\n",
       "    }\n",
       "\n",
       "    .dataframe tbody tr th {\n",
       "        vertical-align: top;\n",
       "    }\n",
       "\n",
       "    .dataframe thead th {\n",
       "        text-align: right;\n",
       "    }\n",
       "</style>\n",
       "<table border=\"1\" class=\"dataframe\">\n",
       "  <thead>\n",
       "    <tr style=\"text-align: right;\">\n",
       "      <th></th>\n",
       "      <th>Unnamed: 0</th>\n",
       "      <th>id</th>\n",
       "      <th>original_language</th>\n",
       "      <th>original_title</th>\n",
       "      <th>popularity</th>\n",
       "      <th>release_date</th>\n",
       "      <th>vote_average</th>\n",
       "      <th>vote_count</th>\n",
       "      <th>genre</th>\n",
       "      <th>overview</th>\n",
       "      <th>revenue</th>\n",
       "      <th>runtime</th>\n",
       "      <th>tagline</th>\n",
       "    </tr>\n",
       "  </thead>\n",
       "  <tbody>\n",
       "    <tr>\n",
       "      <th>0</th>\n",
       "      <td>0</td>\n",
       "      <td>580489.0</td>\n",
       "      <td>en</td>\n",
       "      <td>Venom: Let There Be Carnage</td>\n",
       "      <td>5401.308</td>\n",
       "      <td>2021-09-30</td>\n",
       "      <td>6.8</td>\n",
       "      <td>1736.0</td>\n",
       "      <td>['Science Fiction', 'Action', 'Adventure']</td>\n",
       "      <td>After finding a host body in investigative rep...</td>\n",
       "      <td>424000000.0</td>\n",
       "      <td>97.0</td>\n",
       "      <td>NaN</td>\n",
       "    </tr>\n",
       "    <tr>\n",
       "      <th>1</th>\n",
       "      <td>1</td>\n",
       "      <td>524434.0</td>\n",
       "      <td>en</td>\n",
       "      <td>Eternals</td>\n",
       "      <td>3365.535</td>\n",
       "      <td>2021-11-03</td>\n",
       "      <td>7.1</td>\n",
       "      <td>622.0</td>\n",
       "      <td>['Action', 'Adventure', 'Science Fiction', 'Fa...</td>\n",
       "      <td>The Eternals are a team of ancient aliens who ...</td>\n",
       "      <td>165000000.0</td>\n",
       "      <td>157.0</td>\n",
       "      <td>In the beginning...</td>\n",
       "    </tr>\n",
       "    <tr>\n",
       "      <th>2</th>\n",
       "      <td>2</td>\n",
       "      <td>438631.0</td>\n",
       "      <td>en</td>\n",
       "      <td>Dune</td>\n",
       "      <td>2911.423</td>\n",
       "      <td>2021-09-15</td>\n",
       "      <td>8.0</td>\n",
       "      <td>3632.0</td>\n",
       "      <td>['Action', 'Adventure', 'Science Fiction']</td>\n",
       "      <td>Paul Atreides, a brilliant and gifted young ma...</td>\n",
       "      <td>331116356.0</td>\n",
       "      <td>155.0</td>\n",
       "      <td>Beyond fear, destiny awaits.</td>\n",
       "    </tr>\n",
       "    <tr>\n",
       "      <th>3</th>\n",
       "      <td>3</td>\n",
       "      <td>796499.0</td>\n",
       "      <td>en</td>\n",
       "      <td>Army of Thieves</td>\n",
       "      <td>2552.437</td>\n",
       "      <td>2021-10-27</td>\n",
       "      <td>6.9</td>\n",
       "      <td>555.0</td>\n",
       "      <td>['Action', 'Crime', 'Thriller']</td>\n",
       "      <td>A mysterious woman recruits bank teller Ludwig...</td>\n",
       "      <td>0.0</td>\n",
       "      <td>127.0</td>\n",
       "      <td>Before Vegas, one locksmith became a legend.</td>\n",
       "    </tr>\n",
       "    <tr>\n",
       "      <th>4</th>\n",
       "      <td>4</td>\n",
       "      <td>550988.0</td>\n",
       "      <td>en</td>\n",
       "      <td>Free Guy</td>\n",
       "      <td>1850.470</td>\n",
       "      <td>2021-08-11</td>\n",
       "      <td>7.8</td>\n",
       "      <td>3493.0</td>\n",
       "      <td>['Comedy', 'Action', 'Adventure', 'Science Fic...</td>\n",
       "      <td>A bank teller called Guy realizes he is a back...</td>\n",
       "      <td>331096766.0</td>\n",
       "      <td>115.0</td>\n",
       "      <td>Life's too short to be a background character.</td>\n",
       "    </tr>\n",
       "  </tbody>\n",
       "</table>\n",
       "</div>"
      ],
      "text/plain": [
       "  Unnamed: 0        id original_language               original_title  \\\n",
       "0          0  580489.0                en  Venom: Let There Be Carnage   \n",
       "1          1  524434.0                en                     Eternals   \n",
       "2          2  438631.0                en                         Dune   \n",
       "3          3  796499.0                en              Army of Thieves   \n",
       "4          4  550988.0                en                     Free Guy   \n",
       "\n",
       "   popularity release_date  vote_average  vote_count  \\\n",
       "0    5401.308   2021-09-30           6.8      1736.0   \n",
       "1    3365.535   2021-11-03           7.1       622.0   \n",
       "2    2911.423   2021-09-15           8.0      3632.0   \n",
       "3    2552.437   2021-10-27           6.9       555.0   \n",
       "4    1850.470   2021-08-11           7.8      3493.0   \n",
       "\n",
       "                                               genre  \\\n",
       "0         ['Science Fiction', 'Action', 'Adventure']   \n",
       "1  ['Action', 'Adventure', 'Science Fiction', 'Fa...   \n",
       "2         ['Action', 'Adventure', 'Science Fiction']   \n",
       "3                    ['Action', 'Crime', 'Thriller']   \n",
       "4  ['Comedy', 'Action', 'Adventure', 'Science Fic...   \n",
       "\n",
       "                                            overview      revenue  runtime  \\\n",
       "0  After finding a host body in investigative rep...  424000000.0     97.0   \n",
       "1  The Eternals are a team of ancient aliens who ...  165000000.0    157.0   \n",
       "2  Paul Atreides, a brilliant and gifted young ma...  331116356.0    155.0   \n",
       "3  A mysterious woman recruits bank teller Ludwig...          0.0    127.0   \n",
       "4  A bank teller called Guy realizes he is a back...  331096766.0    115.0   \n",
       "\n",
       "                                          tagline  \n",
       "0                                             NaN  \n",
       "1                             In the beginning...  \n",
       "2                    Beyond fear, destiny awaits.  \n",
       "3    Before Vegas, one locksmith became a legend.  \n",
       "4  Life's too short to be a background character.  "
      ]
     },
     "execution_count": 6,
     "metadata": {},
     "output_type": "execute_result"
    }
   ],
   "source": [
    "df = pd.read_csv(\"Top_10000_Movies.csv\", engine=\"python\")\n",
    "df.head()"
   ]
  },
  {
   "cell_type": "code",
   "execution_count": 8,
   "id": "896c2b20-d24d-4deb-8db2-7bad1a46958a",
   "metadata": {},
   "outputs": [
    {
     "data": {
      "text/html": [
       "<div>\n",
       "<style scoped>\n",
       "    .dataframe tbody tr th:only-of-type {\n",
       "        vertical-align: middle;\n",
       "    }\n",
       "\n",
       "    .dataframe tbody tr th {\n",
       "        vertical-align: top;\n",
       "    }\n",
       "\n",
       "    .dataframe thead th {\n",
       "        text-align: right;\n",
       "    }\n",
       "</style>\n",
       "<table border=\"1\" class=\"dataframe\">\n",
       "  <thead>\n",
       "    <tr style=\"text-align: right;\">\n",
       "      <th></th>\n",
       "      <th>original_title</th>\n",
       "      <th>overview</th>\n",
       "    </tr>\n",
       "  </thead>\n",
       "  <tbody>\n",
       "    <tr>\n",
       "      <th>0</th>\n",
       "      <td>Venom: Let There Be Carnage</td>\n",
       "      <td>After finding a host body in investigative rep...</td>\n",
       "    </tr>\n",
       "    <tr>\n",
       "      <th>1</th>\n",
       "      <td>Eternals</td>\n",
       "      <td>The Eternals are a team of ancient aliens who ...</td>\n",
       "    </tr>\n",
       "    <tr>\n",
       "      <th>2</th>\n",
       "      <td>Dune</td>\n",
       "      <td>Paul Atreides, a brilliant and gifted young ma...</td>\n",
       "    </tr>\n",
       "    <tr>\n",
       "      <th>3</th>\n",
       "      <td>Army of Thieves</td>\n",
       "      <td>A mysterious woman recruits bank teller Ludwig...</td>\n",
       "    </tr>\n",
       "    <tr>\n",
       "      <th>4</th>\n",
       "      <td>Free Guy</td>\n",
       "      <td>A bank teller called Guy realizes he is a back...</td>\n",
       "    </tr>\n",
       "  </tbody>\n",
       "</table>\n",
       "</div>"
      ],
      "text/plain": [
       "                original_title  \\\n",
       "0  Venom: Let There Be Carnage   \n",
       "1                     Eternals   \n",
       "2                         Dune   \n",
       "3              Army of Thieves   \n",
       "4                     Free Guy   \n",
       "\n",
       "                                            overview  \n",
       "0  After finding a host body in investigative rep...  \n",
       "1  The Eternals are a team of ancient aliens who ...  \n",
       "2  Paul Atreides, a brilliant and gifted young ma...  \n",
       "3  A mysterious woman recruits bank teller Ludwig...  \n",
       "4  A bank teller called Guy realizes he is a back...  "
      ]
     },
     "execution_count": 8,
     "metadata": {},
     "output_type": "execute_result"
    }
   ],
   "source": [
    "df = df[[\"original_title\", \"overview\"]]\n",
    "df.head()"
   ]
  },
  {
   "cell_type": "code",
   "execution_count": 9,
   "id": "72e0c163-50be-493a-8451-c2f725d4a747",
   "metadata": {},
   "outputs": [],
   "source": [
    "df = df.dropna()\n",
    "df = df.reset_index()\n",
    "df = df[:5500]"
   ]
  },
  {
   "cell_type": "code",
   "execution_count": 10,
   "id": "cbd84a1b-722c-45dd-96d6-226194770d9f",
   "metadata": {},
   "outputs": [],
   "source": [
    "titles = list(df['overview'])"
   ]
  },
  {
   "cell_type": "code",
   "execution_count": 11,
   "id": "78042f65-8bcf-4427-ab29-a01d55ecc0b5",
   "metadata": {},
   "outputs": [
    {
     "data": {
      "text/plain": [
       "['After finding a host body in investigative reporter Eddie Brock, the alien symbiote must face a new enemy, Carnage, the alter ego of serial killer Cletus Kasady.',\n",
       " 'The Eternals are a team of ancient aliens who have been living on Earth in secret for thousands of years. When an unexpected tragedy forces them out of the shadows, they are forced to reunite against mankind’s most ancient enemy, the Deviants.',\n",
       " \"Paul Atreides, a brilliant and gifted young man born into a great destiny beyond his understanding, must travel to the most dangerous planet in the universe to ensure the future of his family and his people. As malevolent forces explode into conflict over the planet's exclusive supply of the most precious resource in existence-a commodity capable of unlocking humanity's greatest potential-only those who can conquer their fear will survive.\",\n",
       " 'A mysterious woman recruits bank teller Ludwig Dieter to lead a group of aspiring thieves on a top-secret heist during the early stages of the zombie apocalypse.',\n",
       " 'A bank teller called Guy realizes he is a background character in an open world video game called Free City that will soon go offline.']"
      ]
     },
     "execution_count": 11,
     "metadata": {},
     "output_type": "execute_result"
    }
   ],
   "source": [
    "titles[:5]"
   ]
  },
  {
   "cell_type": "code",
   "execution_count": 12,
   "id": "4b710a2f-e88e-4612-844f-cdee6520fa5f",
   "metadata": {},
   "outputs": [
    {
     "name": "stdout",
     "output_type": "stream",
     "text": [
      "The embedding shape is: (5500, 512)\n"
     ]
    }
   ],
   "source": [
    "embeddings = embed(titles)\n",
    "print('The embedding shape is:', embeddings.shape)"
   ]
  },
  {
   "cell_type": "code",
   "execution_count": 13,
   "id": "42d2037d-e848-4256-85b2-f3a39172c85b",
   "metadata": {},
   "outputs": [],
   "source": [
    "pca = PCA(n_components=2)\n",
    "emb_2d = pca.fit_transform(embeddings)"
   ]
  },
  {
   "cell_type": "code",
   "execution_count": 14,
   "id": "81f744d5-d93b-4705-ab37-66ff0fb90079",
   "metadata": {},
   "outputs": [
    {
     "data": {
      "image/png": "[encoded data removed]",
      "text/plain": [
       "<Figure size 792x432 with 1 Axes>"
      ]
     },
     "metadata": {
      "needs_background": "light"
     },
     "output_type": "display_data"
    }
   ],
   "source": [
    "plt.figure(figsize=(11, 6))\n",
    "plt.title('Embedding space')\n",
    "plt.scatter(emb_2d[:, 0], emb_2d[:, 1])\n",
    "plt.show()"
   ]
  },
  {
   "cell_type": "code",
   "execution_count": 15,
   "id": "052598e7-df0b-4f56-b640-baf97854db2f",
   "metadata": {},
   "outputs": [
    {
     "data": {
      "text/plain": [
       "NearestNeighbors(n_neighbors=10)"
      ]
     },
     "execution_count": 15,
     "metadata": {},
     "output_type": "execute_result"
    }
   ],
   "source": [
    "nn = NearestNeighbors(n_neighbors=10)\n",
    "nn.fit(embeddings)"
   ]
  },
  {
   "cell_type": "code",
   "execution_count": 16,
   "id": "fa1ed24a-08af-43ed-8b41-047f93cc2344",
   "metadata": {},
   "outputs": [],
   "source": [
    "def recommend(text):\n",
    "    emb = embed([text])\n",
    "    neighbors = nn.kneighbors(emb, return_distance=False)[0]\n",
    "    return df['original_title'].iloc[neighbors].tolist()"
   ]
  },
  {
   "cell_type": "code",
   "execution_count": 19,
   "id": "725534e2-c5d5-4bcf-8e5f-bf594f8022a5",
   "metadata": {},
   "outputs": [
    {
     "name": "stdout",
     "output_type": "stream",
     "text": [
      "Recommended Movies:\n"
     ]
    },
    {
     "data": {
      "text/plain": [
       "['Batman Begins',\n",
       " 'The Dark Knight Rises',\n",
       " 'The Dark Knight',\n",
       " 'Se7en',\n",
       " 'The Batman',\n",
       " 'Batman: Hush',\n",
       " 'Batman: The Dark Knight Returns, Part 2',\n",
       " 'Hellraiser: Judgment',\n",
       " '21 Bridges',\n",
       " 'Brick Mansions']"
      ]
     },
     "execution_count": 19,
     "metadata": {},
     "output_type": "execute_result"
    }
   ],
   "source": [
    "print('Recommended Movies:')\n",
    "recommend(\"Batman ventures into Gotham City's underworld when a sadistic killer leaves behind a trail of cryptic clues. As the evidence begins to lead closer to home and the scale of the perpetrator's plans become clear, he must forge new relationships, unmask the culprit and bring justice to the abuse of power and corruption that has long plagued the metropolis.\")"
   ]
  },
  {
   "cell_type": "code",
   "execution_count": null,
   "id": "c861268b-c037-4ba6-a598-df67558ef164",
   "metadata": {},
   "outputs": [],
   "source": []
  }
 ],
 "metadata": {
  "kernelspec": {
   "display_name": "Python 3 (ipykernel)",
   "language": "python",
   "name": "python3"
  },
  "language_info": {
   "codemirror_mode": {
    "name": "ipython",
    "version": 3
   },
   "file_extension": ".py",
   "mimetype": "text/x-python",
   "name": "python",
   "nbconvert_exporter": "python",
   "pygments_lexer": "ipython3",
   "version": "3.8.4"
  }
 },
 "nbformat": 4,
 "nbformat_minor": 5
}
